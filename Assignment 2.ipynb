{
 "cells": [
  {
   "cell_type": "code",
   "execution_count": null,
   "id": "d9200486-0e6d-45e0-bba1-af2600d8b5dd",
   "metadata": {},
   "outputs": [],
   "source": [
    "Q1"
   ]
  },
  {
   "cell_type": "code",
   "execution_count": null,
   "id": "974e036b-19c5-4391-8257-6dffc6150dbe",
   "metadata": {},
   "outputs": [],
   "source": [
    "in python we can add comments to give explanations to our code "
   ]
  },
  {
   "cell_type": "markdown",
   "id": "c1920fa2-5c28-4296-b238-fdfb3e14b236",
   "metadata": {},
   "source": [
    "there are two types of comments in python"
   ]
  },
  {
   "cell_type": "code",
   "execution_count": null,
   "id": "ebbac16f-aee7-48ab-87db-75f0e00888a8",
   "metadata": {},
   "outputs": [],
   "source": [
    "1- single line comment\n",
    "\n",
    "these comments are used to give explanations to a code that have single line \n",
    "and starts with # "
   ]
  },
  {
   "cell_type": "code",
   "execution_count": 7,
   "id": "847d89a8-694d-42fd-8c79-025629ec0b3b",
   "metadata": {},
   "outputs": [
    {
     "name": "stdout",
     "output_type": "stream",
     "text": [
      "hello world\n"
     ]
    }
   ],
   "source": [
    " # a single line comment \n",
    "\n",
    "print(\"hello world\")"
   ]
  },
  {
   "cell_type": "code",
   "execution_count": null,
   "id": "2d008fb8-7084-4fbf-9a0f-e05d721c165a",
   "metadata": {},
   "outputs": [],
   "source": [
    "2-   multi line comment\n",
    "\n",
    "These comments are used for adding explanations to multiple\n",
    "lines or even entire blocks of code  Python uses triple quotes \n",
    "(''' or \"\"\") to create multi-line strings"
   ]
  },
  {
   "cell_type": "code",
   "execution_count": 8,
   "id": "eae5651e-7d4e-4e1b-b7bb-cb7253549af9",
   "metadata": {},
   "outputs": [
    {
     "name": "stdout",
     "output_type": "stream",
     "text": [
      "hello world\n"
     ]
    }
   ],
   "source": [
    " a = ''' this is a multiline comment'''\n",
    "print(\"hello world\")"
   ]
  },
  {
   "cell_type": "code",
   "execution_count": null,
   "id": "4bdf7ce1-d046-4235-bad8-fdf8938c06be",
   "metadata": {},
   "outputs": [],
   "source": [
    "Q2"
   ]
  },
  {
   "cell_type": "code",
   "execution_count": null,
   "id": "2ca80c4a-20fc-4634-97eb-0e3aa28198e7",
   "metadata": {},
   "outputs": [],
   "source": [
    "varibles are aname or a name that used to store a value in memory of python , \n",
    "these values can be list, str, int, tuple, and more"
   ]
  },
  {
   "cell_type": "code",
   "execution_count": 9,
   "id": "1eaec5c0-fc3a-46bf-b719-a14a149e5883",
   "metadata": {},
   "outputs": [],
   "source": [
    "x = 10\n",
    "name = 'ritu'\n",
    "ans = True"
   ]
  },
  {
   "cell_type": "code",
   "execution_count": null,
   "id": "b2b32e3d-0c84-44fe-8c28-7b51452fb804",
   "metadata": {},
   "outputs": [],
   "source": [
    "Q3"
   ]
  },
  {
   "cell_type": "code",
   "execution_count": null,
   "id": "26becfb9-7d5f-494b-89bd-484098460deb",
   "metadata": {},
   "outputs": [],
   "source": [
    "we can convert one data type into another data type in pythin by using type conversion function "
   ]
  },
  {
   "cell_type": "code",
   "execution_count": 10,
   "id": "4005861c-d133-43cb-b52b-e6d20993a2c8",
   "metadata": {},
   "outputs": [],
   "source": [
    "float = 12.23"
   ]
  },
  {
   "cell_type": "code",
   "execution_count": 11,
   "id": "c93f63ac-36c8-4a7f-be5d-8fa04c697c1f",
   "metadata": {},
   "outputs": [],
   "source": [
    "a = int(float)"
   ]
  },
  {
   "cell_type": "code",
   "execution_count": 13,
   "id": "59b5c4c3-720d-4a5f-b2c4-6b1ce8c7268d",
   "metadata": {},
   "outputs": [
    {
     "data": {
      "text/plain": [
       "12"
      ]
     },
     "execution_count": 13,
     "metadata": {},
     "output_type": "execute_result"
    }
   ],
   "source": [
    "a"
   ]
  },
  {
   "cell_type": "code",
   "execution_count": 14,
   "id": "120a18dc-e8b1-479e-a70b-0a13e6b9b170",
   "metadata": {},
   "outputs": [
    {
     "data": {
      "text/plain": [
       "int"
      ]
     },
     "execution_count": 14,
     "metadata": {},
     "output_type": "execute_result"
    }
   ],
   "source": [
    "type(a)"
   ]
  },
  {
   "cell_type": "code",
   "execution_count": 15,
   "id": "c21ea17c-ecd8-4813-90ba-7462aca43162",
   "metadata": {},
   "outputs": [],
   "source": [
    "b = 12"
   ]
  },
  {
   "cell_type": "code",
   "execution_count": 16,
   "id": "25940fea-d2ae-46ef-b52b-83d67c4a56ec",
   "metadata": {},
   "outputs": [],
   "source": [
    "c = str(b)"
   ]
  },
  {
   "cell_type": "code",
   "execution_count": 17,
   "id": "21fc8ff9-cedc-4cb3-baae-29f1a255f313",
   "metadata": {},
   "outputs": [
    {
     "data": {
      "text/plain": [
       "'12'"
      ]
     },
     "execution_count": 17,
     "metadata": {},
     "output_type": "execute_result"
    }
   ],
   "source": [
    "c"
   ]
  },
  {
   "cell_type": "code",
   "execution_count": 18,
   "id": "8896025b-fe5b-4ee7-a834-ee990801ac22",
   "metadata": {},
   "outputs": [],
   "source": [
    "text = 'hello'"
   ]
  },
  {
   "cell_type": "code",
   "execution_count": 19,
   "id": "d44676e5-5c6f-4f76-8f90-a6387b6ffbc1",
   "metadata": {},
   "outputs": [],
   "source": [
    "list_text = list(text)"
   ]
  },
  {
   "cell_type": "code",
   "execution_count": 20,
   "id": "076d65bf-fd69-478f-9d99-b9f8a5eba62f",
   "metadata": {},
   "outputs": [
    {
     "data": {
      "text/plain": [
       "['h', 'e', 'l', 'l', 'o']"
      ]
     },
     "execution_count": 20,
     "metadata": {},
     "output_type": "execute_result"
    }
   ],
   "source": [
    "list_text"
   ]
  },
  {
   "cell_type": "code",
   "execution_count": null,
   "id": "b9a04ad6-f4c6-486e-a4d7-d3531457992e",
   "metadata": {},
   "outputs": [],
   "source": [
    "Q4"
   ]
  },
  {
   "cell_type": "code",
   "execution_count": null,
   "id": "614d0e3c-dd49-4236-a57d-185577b5603b",
   "metadata": {},
   "outputs": [],
   "source": [
    "Q5"
   ]
  },
  {
   "cell_type": "code",
   "execution_count": 25,
   "id": "8f0dfdb0-ce95-463d-b021-a954c89ecb35",
   "metadata": {},
   "outputs": [],
   "source": [
    "my_list = [1, 2, 3, 4, 5]"
   ]
  },
  {
   "cell_type": "code",
   "execution_count": 38,
   "id": "c21f6c00-3ddd-42d8-bd23-65b476fec063",
   "metadata": {},
   "outputs": [],
   "source": [
    "new_list = my_list[1:3]"
   ]
  },
  {
   "cell_type": "code",
   "execution_count": 39,
   "id": "674ae991-a851-429a-9728-0732fe024be8",
   "metadata": {},
   "outputs": [
    {
     "data": {
      "text/plain": [
       "[2, 3]"
      ]
     },
     "execution_count": 39,
     "metadata": {},
     "output_type": "execute_result"
    }
   ],
   "source": [
    "new_list"
   ]
  },
  {
   "cell_type": "code",
   "execution_count": null,
   "id": "d5a3a632-2bfb-4e26-b201-468dd99d22f9",
   "metadata": {},
   "outputs": [],
   "source": [
    "Q6"
   ]
  },
  {
   "cell_type": "code",
   "execution_count": null,
   "id": "3682aea9-12a9-44b7-8192-dbc19341aafd",
   "metadata": {},
   "outputs": [],
   "source": [
    "complex number i mathmatics is the one that\n",
    "contains both real and imaginary parts represented in the form of\n",
    "a + bi"
   ]
  },
  {
   "cell_type": "code",
   "execution_count": null,
   "id": "7b4d9b21-6684-4895-ada2-92c2263c9813",
   "metadata": {},
   "outputs": [],
   "source": [
    "and in python complex no is represented using the complex data type \n",
    "here imaginary unit i is represented as j"
   ]
  },
  {
   "cell_type": "code",
   "execution_count": 40,
   "id": "826fe3bc-b142-4ac2-a787-6177f73a290a",
   "metadata": {},
   "outputs": [],
   "source": [
    "a = 5+ 6j"
   ]
  },
  {
   "cell_type": "code",
   "execution_count": 41,
   "id": "3d500c1b-8af5-4170-b832-650116f7fdb0",
   "metadata": {},
   "outputs": [
    {
     "data": {
      "text/plain": [
       "complex"
      ]
     },
     "execution_count": 41,
     "metadata": {},
     "output_type": "execute_result"
    }
   ],
   "source": [
    "type(a)"
   ]
  },
  {
   "cell_type": "code",
   "execution_count": null,
   "id": "e4c1e395-18d8-4509-83b3-2e36baac67cc",
   "metadata": {},
   "outputs": [],
   "source": [
    "Q7"
   ]
  },
  {
   "cell_type": "code",
   "execution_count": 42,
   "id": "32580424-c41d-47d8-a97e-7d2192d39db2",
   "metadata": {},
   "outputs": [],
   "source": [
    "age = 25"
   ]
  },
  {
   "cell_type": "code",
   "execution_count": 43,
   "id": "3fadb59c-3bf4-4f02-ab7e-90e4f35e2a2c",
   "metadata": {},
   "outputs": [
    {
     "data": {
      "text/plain": [
       "25"
      ]
     },
     "execution_count": 43,
     "metadata": {},
     "output_type": "execute_result"
    }
   ],
   "source": [
    "age "
   ]
  },
  {
   "cell_type": "code",
   "execution_count": null,
   "id": "bd1533ab-af35-468a-a543-49421c956547",
   "metadata": {},
   "outputs": [],
   "source": [
    "Q8"
   ]
  },
  {
   "cell_type": "code",
   "execution_count": 44,
   "id": "e546cb45-1907-4123-9dd6-8f3f0d92f668",
   "metadata": {},
   "outputs": [],
   "source": [
    "price = 9.99"
   ]
  },
  {
   "cell_type": "code",
   "execution_count": 45,
   "id": "e8231bf2-1ec9-46eb-9cfe-51e7cbde9770",
   "metadata": {},
   "outputs": [
    {
     "data": {
      "text/plain": [
       "float"
      ]
     },
     "execution_count": 45,
     "metadata": {},
     "output_type": "execute_result"
    }
   ],
   "source": [
    "type(price)"
   ]
  },
  {
   "cell_type": "code",
   "execution_count": null,
   "id": "6e465058-636d-4145-bb9b-910a43a6adde",
   "metadata": {},
   "outputs": [],
   "source": [
    "it is a float type data"
   ]
  },
  {
   "cell_type": "code",
   "execution_count": null,
   "id": "c27977d1-07ea-4dd1-80b6-69998de26ffa",
   "metadata": {},
   "outputs": [],
   "source": [
    "Q9"
   ]
  },
  {
   "cell_type": "code",
   "execution_count": 46,
   "id": "696c99ce-a125-450d-8fd6-9a6d6c539329",
   "metadata": {},
   "outputs": [],
   "source": [
    "name = 'Ritu varma'"
   ]
  },
  {
   "cell_type": "code",
   "execution_count": 47,
   "id": "9a450c98-a1af-4391-9ea2-bd1629045d8e",
   "metadata": {},
   "outputs": [
    {
     "data": {
      "text/plain": [
       "'Ritu varma'"
      ]
     },
     "execution_count": 47,
     "metadata": {},
     "output_type": "execute_result"
    }
   ],
   "source": [
    "name "
   ]
  },
  {
   "cell_type": "code",
   "execution_count": null,
   "id": "3ddfbaa3-dd16-43ac-ad27-135322c9a52d",
   "metadata": {},
   "outputs": [],
   "source": [
    "Q10"
   ]
  },
  {
   "cell_type": "code",
   "execution_count": 48,
   "id": "b209ca03-b0ea-4317-8e8f-bf10109e5d66",
   "metadata": {},
   "outputs": [],
   "source": [
    "str = 'hello world'"
   ]
  },
  {
   "cell_type": "code",
   "execution_count": 60,
   "id": "8775cf79-5829-45ae-b46f-061b00b0ff32",
   "metadata": {},
   "outputs": [],
   "source": [
    "sub_str = str[6:12]"
   ]
  },
  {
   "cell_type": "code",
   "execution_count": 61,
   "id": "6e43e841-411a-4b2d-a1e2-5da9bd945c47",
   "metadata": {},
   "outputs": [
    {
     "name": "stdout",
     "output_type": "stream",
     "text": [
      "world\n"
     ]
    }
   ],
   "source": [
    "print(sub_str)"
   ]
  },
  {
   "cell_type": "code",
   "execution_count": null,
   "id": "93c8911a-ad97-4eaf-bbee-ffd0ef586b5f",
   "metadata": {},
   "outputs": [],
   "source": [
    "Q11"
   ]
  },
  {
   "cell_type": "code",
   "execution_count": null,
   "id": "b3882be7-f106-4957-a655-ce936643d522",
   "metadata": {},
   "outputs": [],
   "source": []
  }
 ],
 "metadata": {
  "kernelspec": {
   "display_name": "Python 3 (ipykernel)",
   "language": "python",
   "name": "python3"
  },
  "language_info": {
   "codemirror_mode": {
    "name": "ipython",
    "version": 3
   },
   "file_extension": ".py",
   "mimetype": "text/x-python",
   "name": "python",
   "nbconvert_exporter": "python",
   "pygments_lexer": "ipython3",
   "version": "3.10.8"
  }
 },
 "nbformat": 4,
 "nbformat_minor": 5
}
